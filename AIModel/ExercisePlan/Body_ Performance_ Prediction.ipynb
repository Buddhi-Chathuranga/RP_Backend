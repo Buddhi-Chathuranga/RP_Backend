{
 "cells": [
  {
   "cell_type": "code",
   "execution_count": null,
   "id": "91bdbab4",
   "metadata": {},
   "outputs": [],
   "source": [
    "import pandas as pd\n",
    "import numpy as np\n",
    "import seaborn as sns\n",
    "import matplotlib\n",
    "matplotlib.use('Agg')\n",
    "import matplotlib.pyplot as plt"
   ]
  },
  {
   "cell_type": "code",
   "execution_count": null,
   "id": "378f769a",
   "metadata": {},
   "outputs": [],
   "source": [
    "df = pd.read_csv('bodyPerformance.csv')"
   ]
  },
  {
   "cell_type": "markdown",
   "id": "bd383303",
   "metadata": {},
   "source": []
  },
  {
   "cell_type": "code",
   "execution_count": null,
   "id": "28636f2f",
   "metadata": {},
   "outputs": [],
   "source": [
    "df.head()"
   ]
  },
  {
   "cell_type": "code",
   "execution_count": null,
   "id": "78f839ce",
   "metadata": {},
   "outputs": [],
   "source": [
    "df.describe()"
   ]
  },
  {
   "cell_type": "code",
   "execution_count": null,
   "id": "61b1a95e",
   "metadata": {},
   "outputs": [],
   "source": [
    "df.shape"
   ]
  },
  {
   "cell_type": "code",
   "execution_count": null,
   "id": "bb846a15",
   "metadata": {},
   "outputs": [],
   "source": [
    "df.info"
   ]
  },
  {
   "cell_type": "code",
   "execution_count": null,
   "id": "4bdf1ecc",
   "metadata": {},
   "outputs": [],
   "source": [
    "#checking the missing values\n",
    "df.isnull().sum()"
   ]
  },
  {
   "cell_type": "code",
   "execution_count": null,
   "id": "0b8a8ff4",
   "metadata": {},
   "outputs": [],
   "source": [
    "print(df.info())"
   ]
  },
  {
   "cell_type": "code",
   "execution_count": null,
   "id": "4185b35f",
   "metadata": {},
   "outputs": [],
   "source": [
    "SexColumnDummy = pd.get_dummies(df['gender'])"
   ]
  },
  {
   "cell_type": "code",
   "execution_count": null,
   "id": "136f346a",
   "metadata": {},
   "outputs": [],
   "source": [
    "df = pd.concat((df, SexColumnDummy), axis=1)"
   ]
  },
  {
   "cell_type": "code",
   "execution_count": null,
   "id": "aeb906b3",
   "metadata": {},
   "outputs": [],
   "source": [
    "df = df.drop(['gender'],axis=1)"
   ]
  },
  {
   "cell_type": "code",
   "execution_count": null,
   "id": "40fc475c",
   "metadata": {},
   "outputs": [],
   "source": [
    "df['class'] = df['class'].replace({\"A\" : 1,\n",
    "                                       \"B\" : 2,\n",
    "                                       \"C\" : 3,\n",
    "                                       \"D\" : 4})"
   ]
  },
  {
   "cell_type": "code",
   "execution_count": null,
   "id": "0bdfd4c6",
   "metadata": {},
   "outputs": [],
   "source": [
    "df.head()"
   ]
  },
  {
   "cell_type": "code",
   "execution_count": null,
   "id": "cbf57de8",
   "metadata": {},
   "outputs": [],
   "source": [
    "df.corr()['class']"
   ]
  },
  {
   "cell_type": "code",
   "execution_count": null,
   "id": "0406552c",
   "metadata": {},
   "outputs": [],
   "source": [
    "#correlation plot using my new dataframe\n",
    "plt.figure(figsize=[7,7])\n",
    "sns.heatmap(df.corr(), annot= True, fmt= '.0%')"
   ]
  },
  {
   "cell_type": "code",
   "execution_count": null,
   "id": "d39a7484",
   "metadata": {},
   "outputs": [],
   "source": [
    "df.plot(kind=\"box\",subplots=True,layout=(7,2),figsize=(15,20));"
   ]
  },
  {
   "cell_type": "code",
   "execution_count": null,
   "id": "51570860",
   "metadata": {},
   "outputs": [],
   "source": [
    "sns.displot(df['sit and bend forward_cm'])"
   ]
  },
  {
   "cell_type": "code",
   "execution_count": null,
   "id": "ebcd057b",
   "metadata": {},
   "outputs": [],
   "source": [
    "q1 = df['sit and bend forward_cm'].quantile(0.25)\n",
    "q3 = df['sit and bend forward_cm'].quantile(0.75)\n",
    "iqr = q3-q1"
   ]
  },
  {
   "cell_type": "code",
   "execution_count": null,
   "id": "893d7046",
   "metadata": {},
   "outputs": [],
   "source": [
    "q1,q3,iqr"
   ]
  },
  {
   "cell_type": "code",
   "execution_count": null,
   "id": "f05fbcf1",
   "metadata": {},
   "outputs": [],
   "source": [
    "upper_limit = q3 + (1.5 * iqr)\n",
    "lower_limit = q1 - (1.5 * iqr)\n",
    "lower_limit, upper_limit"
   ]
  },
  {
   "cell_type": "code",
   "execution_count": null,
   "id": "aea74847",
   "metadata": {},
   "outputs": [],
   "source": [
    "#find the outliers\n",
    "df.loc[(df['sit and bend forward_cm'] > upper_limit) | (df['sit and bend forward_cm'] < lower_limit)]"
   ]
  },
  {
   "cell_type": "code",
   "execution_count": null,
   "id": "3b23ea1a",
   "metadata": {},
   "outputs": [],
   "source": [
    "#trimming - delete the outlier data\n",
    "new_df = df.loc[(df['sit and bend forward_cm'] < upper_limit) & (df['sit and bend forward_cm'] > lower_limit)]\n",
    "print('before removing outliers:', len(df))\n",
    "print('After removing outliers:', len(new_df))\n",
    "print('outliers:', len(df)-len(new_df))"
   ]
  },
  {
   "cell_type": "code",
   "execution_count": null,
   "id": "6afa1d55",
   "metadata": {},
   "outputs": [],
   "source": [
    "#capping - change the outlier to upper lower limit values\n",
    "new_df = df.copy()\n",
    "new_df.loc[(new_df['sit and bend forward_cm']>upper_limit),'sit and bend forward_cm'] = upper_limit\n",
    "new_df.loc[(new_df['sit and bend forward_cm']<lower_limit),'sit and bend forward_cm'] = lower_limit"
   ]
  },
  {
   "cell_type": "code",
   "execution_count": null,
   "id": "9db7bd94",
   "metadata": {},
   "outputs": [],
   "source": [
    "sns.boxplot(new_df['sit and bend forward_cm'])"
   ]
  },
  {
   "cell_type": "markdown",
   "id": "d41cb5fd",
   "metadata": {},
   "source": [
    "Model Building"
   ]
  },
  {
   "cell_type": "code",
   "execution_count": null,
   "id": "065ed096",
   "metadata": {},
   "outputs": [],
   "source": [
    "X =new_df.drop('class',axis=1)\n",
    "Y=new_df['class']"
   ]
  },
  {
   "cell_type": "code",
   "execution_count": null,
   "id": "07a0d316",
   "metadata": {},
   "outputs": [],
   "source": [
    "from sklearn.model_selection import train_test_split\n",
    "X_train, X_test, Y_train, Y_test = train_test_split(X,Y,test_size=0.3,random_state=0)"
   ]
  },
  {
   "cell_type": "code",
   "execution_count": null,
   "id": "95ffc3b2",
   "metadata": {},
   "outputs": [],
   "source": [
    "X_train.shape,X_test.shape"
   ]
  },
  {
   "cell_type": "code",
   "execution_count": null,
   "id": "8990c7d5",
   "metadata": {},
   "outputs": [],
   "source": [
    "def model_acc(model):\n",
    "    model.fit(X_train,Y_train)\n",
    "    acc=model.score(X_test,Y_test)\n",
    "    print(str(model)+ '-->'+str(acc))"
   ]
  },
  {
   "cell_type": "code",
   "execution_count": null,
   "id": "927e5e3c",
   "metadata": {},
   "outputs": [],
   "source": [
    "from sklearn.ensemble import RandomForestClassifier\n",
    "rf = RandomForestClassifier()\n",
    "model_acc(rf)\n",
    "\n",
    "from sklearn.naive_bayes import GaussianNB\n",
    "nb_clf = GaussianNB()\n",
    "model_acc(nb_clf)\n",
    "\n",
    "from sklearn.neighbors import KNeighborsClassifier\n",
    "knn_clf = KNeighborsClassifier()\n",
    "model_acc(knn_clf)\n",
    "\n",
    "from sklearn import ensemble\n",
    "gb_clf = ensemble.GradientBoostingClassifier()\n",
    "model_acc(gb_clf)\n",
    "\n",
    "from sklearn.linear_model import LogisticRegression\n",
    "lr_clf = LogisticRegression()\n",
    "model_acc(lr_clf)"
   ]
  },
  {
   "cell_type": "code",
   "execution_count": null,
   "id": "b14cc8ae",
   "metadata": {},
   "outputs": [],
   "source": [
    "from sklearn.model_selection import GridSearchCV"
   ]
  },
  {
   "cell_type": "code",
   "execution_count": null,
   "id": "c08c1b61",
   "metadata": {},
   "outputs": [],
   "source": [
    "parameters = {'n_estimators':[10, 50,100],'criterion':['gini','entropy']}\n",
    "grid_obj = GridSearchCV(estimator=rf, param_grid=parameters)\n",
    "grid_fit = grid_obj.fit(X_train,Y_train)\n",
    "best_model = grid_fit.best_estimator_\n",
    "best_model"
   ]
  },
  {
   "cell_type": "code",
   "execution_count": null,
   "id": "551940bd",
   "metadata": {},
   "outputs": [],
   "source": [
    "best_model.score(X_train,Y_train)"
   ]
  },
  {
   "cell_type": "code",
   "execution_count": null,
   "id": "192f1365",
   "metadata": {},
   "outputs": [],
   "source": [
    "import pickle\n",
    "with open('bodyperformance.pkl','wb') as file:\n",
    "    pickle.dump(grid_fit, file)"
   ]
  },
  {
   "cell_type": "code",
   "execution_count": null,
   "id": "c9e88920",
   "metadata": {},
   "outputs": [],
   "source": [
    "X_train.columns"
   ]
  },
  {
   "cell_type": "code",
   "execution_count": null,
   "id": "5c8902c4",
   "metadata": {},
   "outputs": [],
   "source": [
    "best_model.predict([[28,173.8,67.70,17.1,70.0,127,43.5,27.1,45,217,0,1]])"
   ]
  },
  {
   "cell_type": "code",
   "execution_count": null,
   "id": "d832e148",
   "metadata": {},
   "outputs": [],
   "source": []
  }
 ],
 "metadata": {
  "kernelspec": {
   "display_name": "Python 3.10.5 ('venv': venv)",
   "language": "python",
   "name": "python3"
  },
  "language_info": {
   "codemirror_mode": {
    "name": "ipython",
    "version": 3
   },
   "file_extension": ".py",
   "mimetype": "text/x-python",
   "name": "python",
   "nbconvert_exporter": "python",
   "pygments_lexer": "ipython3",
   "version": "3.10.5"
  },
  "vscode": {
   "interpreter": {
    "hash": "6599081920d62d43a2fbaaf61dbce514fa94d344ff8ce9411f244009bec34f2e"
   }
  }
 },
 "nbformat": 4,
 "nbformat_minor": 5
}
